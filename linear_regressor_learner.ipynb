{
 "cells": [
  {
   "cell_type": "code",
   "execution_count": 1,
   "metadata": {},
   "outputs": [],
   "source": [
    "import sys\n",
    "sys.path.append('LinearRegressor')\n",
    "from linear_regressor_learner import *"
   ]
  },
  {
   "cell_type": "code",
   "execution_count": 2,
   "metadata": {},
   "outputs": [],
   "source": [
    "learner = LinearRegressorLearner(datapath='s3://culturehub/allracesdata.csv',scalerfilename='save/scaler.save',learningrate=0.005, epochs=300,displaystep=10,samplesize=100000,n_features=4,savefilename='save/linearregressor/mv_linear_regressor')"
   ]
  },
  {
   "cell_type": "code",
   "execution_count": null,
   "metadata": {},
   "outputs": [
    {
     "name": "stdout",
     "output_type": "stream",
     "text": [
      "Epoch:  0 Loss: 1.0025048\n",
      "Epoch:  10 Loss: 0.94334966\n",
      "Epoch:  20 Loss: 0.8870892\n",
      "Epoch:  30 Loss: 0.83611953\n",
      "Epoch:  40 Loss: 0.8055945\n",
      "Epoch:  50 Loss: 0.77952576\n",
      "Epoch:  60 Loss: 0.75942534\n",
      "Epoch:  70 Loss: 0.7335787\n",
      "Epoch:  80 Loss: 0.73097235\n"
     ]
    }
   ],
   "source": [
    "learner.learn()"
   ]
  }
 ],
 "metadata": {
  "kernelspec": {
   "display_name": "conda_tensorflow_p36",
   "language": "python",
   "name": "conda_tensorflow_p36"
  },
  "language_info": {
   "codemirror_mode": {
    "name": "ipython",
    "version": 3
   },
   "file_extension": ".py",
   "mimetype": "text/x-python",
   "name": "python",
   "nbconvert_exporter": "python",
   "pygments_lexer": "ipython3",
   "version": "3.6.5"
  }
 },
 "nbformat": 4,
 "nbformat_minor": 2
}
